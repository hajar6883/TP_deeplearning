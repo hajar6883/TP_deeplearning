{
 "cells": [
  {
   "cell_type": "markdown",
   "metadata": {
    "id": "sYdUECYe2rQq"
   },
   "source": [
    "# TP 1: Get familiar with Keras, Multi-Layer Perceptrons (MLPs) and Convolutional Neural Networks (CNNs)\n",
    "\n",
    "## Objective of the following tutorial: Implement a MLP and a CNN on CIFAR-10 data using `tensorflow`"
   ]
  },
  {
   "cell_type": "markdown",
   "metadata": {
    "id": "l4YfvsP8QMWF"
   },
   "source": [
    "**Tensorflow**: one of the most commonly used frameworks for deep learning\n",
    "\n",
    "**Keras**: high-API available for different frameworks"
   ]
  },
  {
   "cell_type": "markdown",
   "metadata": {
    "id": "4iBoscBAQMWF"
   },
   "source": [
    "**Useful links**:\n",
    "- [Keras official website](https://keras.io/)\n",
    "- [Keras cheat sheet](https://drive.google.com/file/d/1BDN0Kk_E4jkebaInd2vge-1Q3FaZCtdl/view)\n",
    "- Overview of how to use Keras in Tensorflow: https://www.tensorflow.org/guide/keras/overview\n",
    "- Some tutorials can be found on the official website of Tensorflow on MNIST data, FashionMNIST (pay attention to the version of tensorflow used)\n"
   ]
  },
  {
   "cell_type": "markdown",
   "metadata": {
    "id": "GmYj3npHQMWF"
   },
   "source": [
    "**Courses/Research papers**:\n",
    "- Books:\n",
    "    - Deep Learning Book, Ian Goodfellow, Yoshua Bengio and Aaron Courville (++)\n",
    "    - Hands-On Machine Learning with Scikit-Learn, Keras, and TensorFlow: Concepts, Tools, and Techniques to Build Intelligent Systems, Oreilly Edition, Geron Aurelien\n",
    "- Website/MOOC:\n",
    "    - Udacity\n",
    "    - Coursera, Andrew NG : https://www.coursera.org/learn/deep-neural-network/ (++)\n",
    "    - http://ufldl.stanford.edu/tutorial/ ([Videos](https://www.youtube.com/watch?v=vT1JzLTH4G4&list=PL3FW7Lu3i5JvHM8ljYj-zLfQRF3EO8sYv))\n",
    "    - http://deeplearning.net/tutorial/\n",
    "    - CNN: http://cs231n.github.io/ (++)\n",
    "- Videos:\n",
    "    - YouTuber: Hugo Larochelle\n",
    "    - Two Minute Papers Channel"
   ]
  },
  {
   "cell_type": "markdown",
   "metadata": {
    "id": "twnv_iaJDAHN"
   },
   "source": [
    "# 0. Good practice\n",
    "\n",
    "- Modularity: organize your code in different scripts to be able to modify specific function if needed, and to avoid overloading your jupyter notebook (this can cause a lot of untracktable errors)."
   ]
  },
  {
   "cell_type": "markdown",
   "metadata": {
    "id": "wy0NTyiL2rQr"
   },
   "source": [
    "## 1. Example with Keras"
   ]
  },
  {
   "cell_type": "markdown",
   "metadata": {
    "id": "sO1LazcKQMWH"
   },
   "source": [
    "### a) Set your environnement"
   ]
  },
  {
   "cell_type": "markdown",
   "metadata": {
    "id": "XmzBVzopSE-k"
   },
   "source": [
    "#### Instructions for people who use their own device:"
   ]
  },
  {
   "cell_type": "markdown",
   "metadata": {
    "id": "URDJsp_NcZjm"
   },
   "source": [
    "Download and install TensorFlow 2. Import TensorFlow into your program:\n",
    "\n",
    "Note: Upgrade `pip` to install the TensorFlow 2 package. See the [install guide](https://www.tensorflow.org/install) for details."
   ]
  },
  {
   "cell_type": "markdown",
   "metadata": {
    "id": "RQqXbYZTQ0yO"
   },
   "source": [
    "##### Launch a jupyter notebook from a terminal"
   ]
  },
  {
   "cell_type": "markdown",
   "metadata": {
    "id": "B3mrVOwzQMWF"
   },
   "source": [
    "```bash\n",
    "jupyter notebook\n",
    "```"
   ]
  },
  {
   "cell_type": "markdown",
   "metadata": {
    "id": "PB4aCc0kQMWG"
   },
   "source": [
    "In order not to see the messages from jupyter notebook :"
   ]
  },
  {
   "cell_type": "markdown",
   "metadata": {
    "id": "z6S3SVxQQMWG"
   },
   "source": [
    "```bash\n",
    "jupyter notebook --port 8890 < /dev/null &>/dev/null &\n",
    "```"
   ]
  },
  {
   "cell_type": "markdown",
   "metadata": {
    "id": "LTKzPnYzStdr"
   },
   "source": [
    "##### Manage GPU usage"
   ]
  },
  {
   "cell_type": "markdown",
   "metadata": {
    "id": "bKBCrSWoQMWK"
   },
   "source": [
    "From a terminal, you can launch the following command to manage NVIDIA GPU ressources, allocation between different users..."
   ]
  },
  {
   "cell_type": "markdown",
   "metadata": {
    "id": "arQ-r3yAQMWK"
   },
   "source": [
    "```bash\n",
    "watch -n1 nvidia-smi\n",
    "```\n",
    "```-n``` means every second it is updated."
   ]
  },
  {
   "cell_type": "markdown",
   "metadata": {
    "id": "ZOIVU1mHT3Rw"
   },
   "source": [
    "In case different GPUs exist and some are already used, you can select one available by its ID:"
   ]
  },
  {
   "cell_type": "code",
   "execution_count": null,
   "metadata": {
    "id": "eRFhx6brT1vo"
   },
   "outputs": [],
   "source": [
    "## Uncomment the following lines if you are using your personal device and you have more than 1 gpu available.\n",
    "## Switch the GPU ID from \"0\" to any other ID you want to use\n",
    "# import os\n",
    "# os.environ[\"CUDA_VISIBLE_DEVICES\"]=\"0\" #HERE, you select GPU:0"
   ]
  },
  {
   "cell_type": "markdown",
   "metadata": {
    "id": "NAh9Jkt_ShJ2"
   },
   "source": [
    "#### Instructions for people who use a remote device:"
   ]
  },
  {
   "cell_type": "markdown",
   "metadata": {
    "id": "OzYxk6pmQMWH"
   },
   "source": [
    "To execute the code on Google Collab go to tab Runtime (Execution) > Change runtime type (Modifier le type d'exécution). Select GPU in Hardware accelerator."
   ]
  },
  {
   "cell_type": "markdown",
   "metadata": {
    "id": "d9KgNiKq2rQs"
   },
   "source": [
    "### b) Load the useful packages"
   ]
  },
  {
   "cell_type": "code",
   "execution_count": null,
   "metadata": {
    "id": "IyQLN4h12rQs"
   },
   "outputs": [],
   "source": [
    "import scipy # scientific computing library\n",
    "import numpy as np # manipulate N-dimensional arrays\n",
    "import pandas as pd # dataframes\n",
    "import matplotlib.pyplot as plt # data plotting\n",
    "import seaborn # advanced data plotting\n",
    "from sklearn import preprocessing # basic ML models and processing functions\n",
    "\n",
    "import tensorflow as tf\n",
    "\n",
    "import os"
   ]
  },
  {
   "cell_type": "markdown",
   "metadata": {
    "id": "DtD-94_hLGh-"
   },
   "source": [
    "Check the version of Tensorflow"
   ]
  },
  {
   "cell_type": "code",
   "execution_count": null,
   "metadata": {
    "id": "YFAsxLcxJE38"
   },
   "outputs": [],
   "source": [
    "tf.__version__"
   ]
  },
  {
   "cell_type": "markdown",
   "metadata": {
    "id": "kOcHamIzLanK"
   },
   "source": [
    "Check if you can use a GPU"
   ]
  },
  {
   "cell_type": "code",
   "execution_count": null,
   "metadata": {
    "id": "GLbgVk0NLvaP"
   },
   "outputs": [],
   "source": [
    "tf.test.is_gpu_available()"
   ]
  },
  {
   "cell_type": "code",
   "execution_count": null,
   "metadata": {
    "id": "siK1R4mi2rQv"
   },
   "outputs": [],
   "source": [
    "print(\"Num GPUs Available: \", len(tf.config.experimental.list_physical_devices('GPU')))"
   ]
  },
  {
   "cell_type": "markdown",
   "metadata": {
    "id": "vZ6mzdkUNYth"
   },
   "source": [
    "If the framework is able to detect that a GPU can be used, the code is supposed to run on a GPU. In low-level API, you might specify that your code should run on  GPU."
   ]
  },
  {
   "cell_type": "markdown",
   "metadata": {
    "id": "0tawF2y2MCbq"
   },
   "source": [
    "Check whether your code is running on GPU"
   ]
  },
  {
   "cell_type": "code",
   "execution_count": null,
   "metadata": {
    "id": "mU7vykmCL5yb"
   },
   "outputs": [],
   "source": [
    "## Uncomment this code if you want to check\n",
    "\n",
    "# tf.debugging.set_log_device_placement(True)\n",
    "\n",
    "# # Create some tensors\n",
    "# a = tf.constant([[1.0, 2.0, 3.0], [4.0, 5.0, 6.0]])\n",
    "# b = tf.constant([[1.0, 2.0], [3.0, 4.0], [5.0, 6.0]])\n",
    "# c = tf.matmul(a, b)\n",
    "\n",
    "# print(c)\n",
    "\n"
   ]
  },
  {
   "cell_type": "code",
   "execution_count": null,
   "metadata": {
    "id": "jQi2jp5QQ8xq"
   },
   "outputs": [],
   "source": [
    "# tf.debugging.set_log_device_placement(False)"
   ]
  },
  {
   "cell_type": "markdown",
   "metadata": {
    "id": "pS1MufD1PRyz"
   },
   "source": [
    "It seems that tf.debugging.set_log_device_placement() once is activated cannot be reset."
   ]
  },
  {
   "cell_type": "markdown",
   "metadata": {
    "id": "zSe4u_QH2rQ5"
   },
   "source": [
    "### c) Load the data"
   ]
  },
  {
   "cell_type": "markdown",
   "metadata": {
    "id": "Q4mOqT7X2rQ6"
   },
   "source": [
    "#### Description of the data\n",
    "There are  labeled subsets of the 80 million tiny images dataset and consists of 60000 **32x32** RGB images in 10 classes, with 6000 images per class. There are **50000 training images** and **10000 test images**. Source: https://www.cs.toronto.edu/~kriz/cifar.html"
   ]
  },
  {
   "cell_type": "markdown",
   "metadata": {
    "id": "ND24qaz0OfDA"
   },
   "source": [
    "You can download in the same way MNIST or Fashion-MNIST dataset. Please refer to the documentation: https://keras.io/datasets/."
   ]
  },
  {
   "cell_type": "markdown",
   "metadata": {
    "id": "sDAJo51DOz3z"
   },
   "source": [
    "The data can be directly downloaded with Keras."
   ]
  },
  {
   "cell_type": "code",
   "execution_count": null,
   "metadata": {
    "id": "MEGEPlSz2rQ6"
   },
   "outputs": [],
   "source": [
    "from tensorflow.keras.datasets import cifar10\n",
    "from tensorflow.keras import backend as K"
   ]
  },
  {
   "cell_type": "code",
   "execution_count": null,
   "metadata": {
    "id": "Jngi0lmF2rQ6"
   },
   "outputs": [],
   "source": [
    "K.set_image_data_format('channels_last')\n",
    "(x_train_original, y_train_original), (x_test, y_test) = cifar10.load_data()\n",
    "print('x_train shape:', x_train_original.shape)\n",
    "print(x_train_original.shape[0], 'train samples')\n",
    "print(y_train_original.shape, 'train samples')\n",
    "print(x_test.shape[0], 'test samples')\n"
   ]
  },
  {
   "cell_type": "markdown",
   "metadata": {
    "id": "od0h8GxUPzJF"
   },
   "source": [
    "![channels.png](data:image/png;base64,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)"
   ]
  },
  {
   "cell_type": "code",
   "execution_count": null,
   "metadata": {
    "id": "QoBEARIB2rQ7"
   },
   "outputs": [],
   "source": [
    "# Check number of classes\n",
    "\n",
    "num_classes = y_train_original.max() +1\n",
    "num_classes"
   ]
  },
  {
   "cell_type": "code",
   "execution_count": null,
   "metadata": {
    "id": "ICfdXJ_LP9Ao"
   },
   "outputs": [],
   "source": [
    "plt.imshow(x_train_original[1])"
   ]
  },
  {
   "cell_type": "code",
   "execution_count": null,
   "metadata": {
    "id": "UIFyf0DMQMWM"
   },
   "outputs": [],
   "source": [
    "# Check the class labels\n",
    "\n",
    "y_train_original"
   ]
  },
  {
   "cell_type": "code",
   "execution_count": null,
   "metadata": {
    "id": "dlIrbVWgQMWM"
   },
   "outputs": [],
   "source": [
    "LABELS = {\n",
    "    0 : \"airplane\",\n",
    "    1 : \"automobile\",\n",
    "    2 : \"bird\",\n",
    "    3 : \"cat\",\n",
    "    4 : \"deer\",\n",
    "    5 : \"dog\",\n",
    "    6 : \"frog\",\n",
    "    7 : \"horse\",\n",
    "    8 : \"ship\",\n",
    "    9 : \"truck\"\n",
    "}"
   ]
  },
  {
   "cell_type": "markdown",
   "metadata": {
    "id": "AyOispi_QMWM"
   },
   "source": [
    "### d) Preprocess the data"
   ]
  },
  {
   "cell_type": "markdown",
   "metadata": {
    "id": "wvdD5yWtQMWM"
   },
   "source": [
    "- Data cleaning\n",
    "- Data conversion\n",
    "- Data normalization\n",
    "- Data split"
   ]
  },
  {
   "cell_type": "markdown",
   "metadata": {
    "id": "vfzCnFksQMWM"
   },
   "source": [
    "#### Data split"
   ]
  },
  {
   "cell_type": "markdown",
   "metadata": {
    "id": "c4pRoGTVQMWM"
   },
   "source": [
    "Split: Train 40000, Val 10000, Test 10000."
   ]
  },
  {
   "cell_type": "code",
   "execution_count": null,
   "metadata": {
    "id": "EF3IdcdhQMWM"
   },
   "outputs": [],
   "source": [
    "from sklearn.model_selection import train_test_split"
   ]
  },
  {
   "cell_type": "markdown",
   "metadata": {
    "id": "JsyDjEOyQMWM"
   },
   "source": [
    "Documentation: https://scikit-learn.org/stable/modules/generated/sklearn.model_selection.train_test_split.html <br>\n",
    "Use option *stratify* to keep the orginal proportions\n",
    "*shuffle* can be set to True\n",
    "\n",
    "Why should we use *random_state* ?"
   ]
  },
  {
   "cell_type": "code",
   "execution_count": null,
   "metadata": {
    "id": "GqTJ3nX_QMWM"
   },
   "outputs": [],
   "source": [
    "x_train, x_val, y_train, y_val = train_test_split(x_train_original, y_train_original, test_size=10000, random_state=42, shuffle=True,stratify=y_train_original)"
   ]
  },
  {
   "cell_type": "markdown",
   "metadata": {
    "id": "BX7Hv2JkQMWM"
   },
   "source": [
    "Check:"
   ]
  },
  {
   "cell_type": "code",
   "execution_count": null,
   "metadata": {
    "id": "W_Iz5H0hQMWM"
   },
   "outputs": [],
   "source": [
    "x_train.shape"
   ]
  },
  {
   "cell_type": "code",
   "execution_count": null,
   "metadata": {
    "id": "v_jh9_tkQMWN"
   },
   "outputs": [],
   "source": [
    "x_val.shape"
   ]
  },
  {
   "cell_type": "code",
   "execution_count": null,
   "metadata": {
    "id": "sKZDxtdoQMWO"
   },
   "outputs": [],
   "source": [
    "x_test.shape"
   ]
  },
  {
   "cell_type": "code",
   "execution_count": null,
   "metadata": {
    "id": "unIzYori8tk6"
   },
   "outputs": [],
   "source": [
    "# Check number of samples inside each class\n",
    "from collections import Counter"
   ]
  },
  {
   "cell_type": "code",
   "execution_count": null,
   "metadata": {
    "id": "WmK5rPZc8zjm"
   },
   "outputs": [],
   "source": [
    "Counter(list(y_train.reshape(-1)))\n"
   ]
  },
  {
   "cell_type": "code",
   "execution_count": null,
   "metadata": {
    "id": "aA6n1tce9C-i"
   },
   "outputs": [],
   "source": [
    "Counter(list(y_test.reshape(-1)))\n"
   ]
  },
  {
   "cell_type": "markdown",
   "metadata": {
    "id": "f122cKMGQMWO"
   },
   "source": [
    "#### Convert class vectors to binary class matrices (one-hot encoding)"
   ]
  },
  {
   "cell_type": "markdown",
   "metadata": {
    "id": "PUUAWZGsTdXg"
   },
   "source": [
    "The output layer of the neural network contains as many neurons as there are classes. For a given sample, each output neuron gives the probability to belong to the corresponding class.\n",
    "The ground-truth labels need to be formated in the same way such as for each sample, we have a vector of shape the number of classes: i.e., ${y}_{i,k}=1$ when the $i$-th sample belongs to the class $k$, or $0$ otherwise. Note that $\\sum_{k=1}^K{y}_{i,k}=1$.\n",
    "\n",
    "This will help the comparison in the loss function:\n",
    "$L=\\sum_{i=1}^N \\sum_{k=1}^K \\left( -y_{i,k}\\log\\hat{y}_{i,k} \\right)$ where ${y}_{i,k}$ is the indicator of the true class, $\\hat{y}_{i,k}$ is the probability that the $i$-th sample belongs to the class $k$, $N$ and $K$ are respectively the number of samples in the training set and the number of classes\n",
    "\n",
    "\n"
   ]
  },
  {
   "cell_type": "code",
   "execution_count": null,
   "metadata": {
    "id": "WFUDf6TbV8qn"
   },
   "outputs": [],
   "source": [
    "from tensorflow.keras.utils import to_categorical"
   ]
  },
  {
   "cell_type": "code",
   "execution_count": null,
   "metadata": {
    "id": "2f0jM3mEWPoV"
   },
   "outputs": [],
   "source": [
    "y_train_original.shape"
   ]
  },
  {
   "cell_type": "code",
   "execution_count": null,
   "metadata": {
    "id": "fcFMj7aQQMWO"
   },
   "outputs": [],
   "source": [
    "y_train_original = to_categorical(y_train_original, num_classes)\n",
    "y_test = to_categorical(y_test, num_classes)\n",
    "y_train = to_categorical(y_train, num_classes)\n",
    "y_val = to_categorical(y_val, num_classes)"
   ]
  },
  {
   "cell_type": "code",
   "execution_count": null,
   "metadata": {
    "id": "AzEpKshxWCGs"
   },
   "outputs": [],
   "source": [
    "# New shape of the labels\n",
    "y_train_original.shape"
   ]
  },
  {
   "cell_type": "markdown",
   "metadata": {
    "id": "SWb9JfAVT-EV"
   },
   "source": [
    "Documentation: https://www.tensorflow.org/api_docs/python/tf/keras/utils/to_categorical"
   ]
  },
  {
   "cell_type": "markdown",
   "metadata": {
    "id": "YDo1OglKQMWO"
   },
   "source": [
    "#### Normalize the data"
   ]
  },
  {
   "cell_type": "markdown",
   "metadata": {
    "id": "z1R_YZWsQMWO"
   },
   "source": [
    "Generally, the data should be normalized. Why ?\n",
    "\n",
    " The most used methods are MinMaxScaler and Standardizing (centrage-réduction). Source: https://towardsdatascience.com/scale-standardize-or-normalize-with-scikit-learn-6ccc7d176a02"
   ]
  },
  {
   "cell_type": "markdown",
   "metadata": {
    "id": "-GhPLPbCQMWO"
   },
   "source": [
    "Here, the MinMax scaling is used : $\\frac{x-\\min(x)}{\\max(x)-\\min(x)}$  \n",
    "The images are just divided by the maximun value of a pixel because the minimum is 0."
   ]
  },
  {
   "cell_type": "code",
   "execution_count": null,
   "metadata": {
    "id": "DVhIdRlyQMWO"
   },
   "outputs": [],
   "source": [
    "# The data must be converted into float in order to normalize them. Since we know the minimum (0.) and the maximum value of a pixel (255.), we can proceed by normalizing by hand.\n",
    "# However, depending on the dataset, it is good practice to use built-in scaling functions from tensorflow or scikit-learn for instance.\n",
    "x_train_original = x_train_original.astype('float32')\n",
    "x_test = x_test.astype('float32')\n",
    "x_train = x_train.astype('float32')\n",
    "x_val = x_val.astype('float32')\n",
    "\n",
    "x_train_original /= 255\n",
    "x_test /= 255\n",
    "x_train /= 255\n",
    "x_val /= 255"
   ]
  },
  {
   "cell_type": "code",
   "execution_count": null,
   "metadata": {
    "id": "xW4oXvSoJGWJ"
   },
   "outputs": [],
   "source": [
    "# Check new minimum and maximum values\n",
    "x_train.max(), x_train.min()"
   ]
  },
  {
   "cell_type": "markdown",
   "metadata": {
    "id": "bH0-u215WcfW"
   },
   "source": [
    "More functions: https://scikit-learn.org/stable/modules/classes.html#module-sklearn.preprocessing\n",
    "\n"
   ]
  },
  {
   "cell_type": "markdown",
   "metadata": {
    "id": "PnJ624xyQMWO"
   },
   "source": [
    "### e) Implement the model"
   ]
  },
  {
   "cell_type": "markdown",
   "metadata": {
    "id": "IsDcKGrGQMWO"
   },
   "source": [
    "### **ToolBox:**\n",
    "- Instantiate the **architecture** of your network: (there are also hyperparameters)\n",
    "    - number of layers (depth);\n",
    "    - number of neurons by layer (width);\n",
    "    - type of layer (non-linearity);\n",
    "    - links between the layers (batchnorm, dropout);\n",
    "    - model's specificities (CNN, RNN...)\n",
    "    /!\\ Some regularization methods have also some hyperparameters to adjust\n",
    "- Determine the hyperparameters of the **training** :\n",
    "    - weights initialization;\n",
    "    - the optimizer for the training and the learning rate;\n",
    "    - size of the batch, number of epochs;\n",
    "    - **regularizers** : L1/L2 ($\\alpha$), early stopping, [data augmentation](https://towardsdatascience.com/exploring-image-data-augmentation-with-keras-and-tensorflow-a8162d89b844) (pertubation of the input data)  \n",
    "\n",
    "See slide : Bonne Pratique for default hyperparameters (slide 11)"
   ]
  },
  {
   "cell_type": "markdown",
   "metadata": {
    "id": "v6rTkfNUQMWO"
   },
   "source": [
    "**The model implemented:**"
   ]
  },
  {
   "cell_type": "markdown",
   "metadata": {
    "id": "OC2E781PQMWO"
   },
   "source": [
    "**Input**: CIFAR-10 data (32x32)  \n",
    "\n",
    "**Output**: one-hot vector with 10 classes  \n",
    "\n",
    "**Network**:\n",
    "- MLP:\n",
    "    - 1rst Hidden Layer (activation: ReLu, output size: 128)\n",
    "    - 2nd Hidden Layer (activation: ReLu, output size: 64)\n",
    "    - Output Layer (activation: Softmax, output size: class size)\n",
    "- CNN: baseline\n",
    "    - Block #1: 2xConv (kernel size: 3x3, filters: 32, padding='same', activation: ReLu) > MaxPooling2D  (pool size: 2x2)\n",
    "    - Flatten\n",
    "    - Hidden Layer (activation: ReLu, output size: 512)\n",
    "    - Output Layer (activation: Softmax, output size: class size)  \n",
    "    \n",
    "**Training**: Adam, 0.001 learning rate (the default one), 64 batch size, 100 epochs for MLP, 25 epochs for CNN"
   ]
  },
  {
   "cell_type": "markdown",
   "metadata": {
    "id": "xUXnvvadQMWO"
   },
   "source": [
    "---"
   ]
  },
  {
   "cell_type": "markdown",
   "metadata": {
    "id": "Br1_GkLsQMWO"
   },
   "source": [
    "The following code guides you to implement a MLP and a CNN in Keras."
   ]
  },
  {
   "cell_type": "markdown",
   "metadata": {
    "id": "re05T5ajQMWO"
   },
   "source": [
    "**Two ways:**\n",
    "- [Sequence API](https://www.tensorflow.org/guide/keras/sequential_model): creation of the model instance beforhead and add the layers\n",
    "- [Functional API](https://www.tensorflow.org/guide/keras/functional): the model is instancied after implementing each layer. The input on which every function is applied has to be specified. It's possible to have branches."
   ]
  },
  {
   "cell_type": "markdown",
   "metadata": {
    "id": "p4h4D4BpQMWO"
   },
   "source": [
    "First, it is important to clear the session to be sure that a model is not still loaded on the GPU."
   ]
  },
  {
   "cell_type": "code",
   "execution_count": null,
   "metadata": {
    "id": "mMOBROAmQMWP"
   },
   "outputs": [],
   "source": [
    "from tensorflow.keras.backend import clear_session\n",
    "clear_session()"
   ]
  },
  {
   "cell_type": "markdown",
   "metadata": {
    "id": "fNhxTc09DBdt"
   },
   "source": [
    "#### MLP (Sequence API)"
   ]
  },
  {
   "cell_type": "code",
   "execution_count": null,
   "metadata": {
    "id": "bQvBEIjM_V6g"
   },
   "outputs": [],
   "source": [
    "from tensorflow.keras.models import Model,Sequential"
   ]
  },
  {
   "cell_type": "code",
   "execution_count": null,
   "metadata": {
    "id": "t83EQvqyCqN_"
   },
   "outputs": [],
   "source": [
    "from tensorflow.keras.models import Model,Sequential\n",
    "from tensorflow.keras.layers import Input, Dense, BatchNormalization, Dropout, ReLU, Activation, Flatten"
   ]
  },
  {
   "cell_type": "markdown",
   "metadata": {
    "id": "jog8Z1PwVVrx"
   },
   "source": [
    "Main functions:\n",
    "- layers.Dense(units,...): units correspond to the number of neurons of the layer;\n",
    "- layers.BatchNormalization(): normalize the pre-activations;\n",
    "- layers.ReLU(): computes the activation function ReLU;  \n",
    "- layers.Dropout(): regularization technique - some units are hidden during the training phase. They are chosen randomly at each train step.\n",
    "\n",
    "You can read the complete documentation for each function [here.](https://www.tensorflow.org/api_docs/python/tf/keras/layers)\n"
   ]
  },
  {
   "cell_type": "code",
   "execution_count": null,
   "metadata": {
    "id": "_80zIeYXDIfq"
   },
   "outputs": [],
   "source": [
    "model_MLP = Sequential()\n",
    "\n",
    "model_MLP.add(Flatten(input_shape=(32, 32, 3)))\n",
    "\n",
    "model_MLP.add(Dense(128))\n",
    "model_MLP.add(BatchNormalization())\n",
    "model_MLP.add(ReLU())\n",
    "model_MLP.add(Dropout(0.25))\n",
    "\n",
    "model_MLP.add(Dense(64))\n",
    "model_MLP.add(BatchNormalization())\n",
    "model_MLP.add(ReLU())\n",
    "model_MLP.add(Dropout(0.25))\n",
    "\n",
    "model_MLP.add(Dense(num_classes, activation='softmax'))"
   ]
  },
  {
   "cell_type": "code",
   "execution_count": null,
   "metadata": {
    "id": "Iu-NqVVgLNay"
   },
   "outputs": [],
   "source": [
    "model_MLP.summary()"
   ]
  },
  {
   "cell_type": "markdown",
   "metadata": {
    "id": "avgxMU3tQMWP"
   },
   "source": [
    "The above description enables you to check if it matches the desired configuration."
   ]
  },
  {
   "cell_type": "markdown",
   "metadata": {
    "id": "l1YE6IpfcxB3"
   },
   "source": [
    "It is similar to do the following:"
   ]
  },
  {
   "cell_type": "code",
   "execution_count": null,
   "metadata": {
    "id": "s2WWDkSLcqYI"
   },
   "outputs": [],
   "source": [
    "# model_MLP = tf.keras.models.Sequential([\n",
    "#   Flatten(input_shape=(32, 32, 3)),\n",
    "#   ...\n",
    "# ])"
   ]
  },
  {
   "cell_type": "markdown",
   "metadata": {
    "id": "3AOHJImfQMWQ"
   },
   "source": [
    "Note that it is possible to implement your own layer inheriting from Layer class. Customization is in fact feasible on loss, history, optimizer..."
   ]
  },
  {
   "cell_type": "markdown",
   "metadata": {
    "id": "CYcYeOpjc_Xu"
   },
   "source": [
    "##### MLP (Functionnal API)\n",
    "\n",
    "Help: https://www.tensorflow.org/guide/keras/functional"
   ]
  },
  {
   "cell_type": "code",
   "execution_count": null,
   "metadata": {
    "id": "NCEuKmgtiAVp"
   },
   "outputs": [],
   "source": [
    "# def model_MLP():\n",
    "#     inputs = Input(shape=x_train.shape[1:])\n",
    "#     inputs = Flatten(input_shape=(32, 32, 3))(inputs)\n",
    "\n",
    "#     h1 = BatchNormalization()(h1)\n",
    "#     h1 = ReLU()(h1)\n",
    "#     h1 = Dropout(0.25)(h1)\n",
    "#      ...\n",
    "\n",
    "#     last_layer = Dense(num_classes)\n",
    "#     predictions = Activation('softmax')(last_layer)\n",
    "\n",
    "#     model = Model(inputs=inputs, outputs=predictions)\n",
    "\n",
    "#     return model"
   ]
  },
  {
   "cell_type": "markdown",
   "metadata": {
    "id": "i_z2N5bTQMWQ"
   },
   "source": [
    "#### CNN (Sequence API)"
   ]
  },
  {
   "cell_type": "markdown",
   "metadata": {
    "id": "s1mDVsKAQMWQ"
   },
   "source": [
    "Note that you must execute entirely a model one by one. So after training the MLP model, clear the session. Even if you modify the graph of the MLP, you must clear the session."
   ]
  },
  {
   "cell_type": "markdown",
   "metadata": {
    "id": "Skz1wH2T5siv"
   },
   "source": [
    "Main functions:\n",
    "- layers.Conv2D(filters,kernel_size, padding, strides,..;\n",
    "- layers.MaxPooling2D(): normalize the pre-activations;\n",
    "- layers.Flatten(): computes the activation function ReLU.\n"
   ]
  },
  {
   "cell_type": "markdown",
   "metadata": {
    "id": "D_f2b_xPQMWQ"
   },
   "source": [
    "**Source**: https://keras.io/examples/cifar10_cnn/ + https://www.tensorflow.org/tutorials/images/cnn\n",
    "<!-- Source : https://keras.io/examples/cifar10_cnn/-->"
   ]
  },
  {
   "cell_type": "code",
   "execution_count": null,
   "metadata": {
    "id": "ZW28pW41Zdfr"
   },
   "outputs": [],
   "source": [
    "from tensorflow.keras.layers import Conv2D, MaxPooling2D"
   ]
  },
  {
   "cell_type": "code",
   "execution_count": null,
   "metadata": {
    "id": "QUYuGdcZQMWQ"
   },
   "outputs": [],
   "source": [
    "model_CNN = Sequential()\n",
    "\n",
    "#Block 1\n",
    "model_CNN.add(Conv2D(filters = 32, kernel_size= (3, 3), padding='same', strides=(1, 1),\n",
    "                 input_shape=x_train.shape[1:]))\n",
    "model_CNN.add(Activation('relu'))\n",
    "model_CNN.add(Conv2D(32, (3, 3)))\n",
    "model_CNN.add(Activation('relu'))\n",
    "model_CNN.add(MaxPooling2D(pool_size=(2, 2)))\n",
    "model_CNN.add(Dropout(0.25))\n",
    "\n",
    "\n",
    "model_CNN.add(Flatten())\n",
    "\n",
    "#FC layer\n",
    "model_CNN.add(Dense(512))\n",
    "model_CNN.add(Activation('relu'))\n",
    "model_CNN.add(Dropout(0.5))\n",
    "model_CNN.add(Dense(num_classes))\n",
    "model_CNN.add(Activation('softmax'))"
   ]
  },
  {
   "cell_type": "code",
   "execution_count": null,
   "metadata": {
    "id": "dMifRuXDQMWQ"
   },
   "outputs": [],
   "source": [
    "model_CNN.summary()"
   ]
  },
  {
   "cell_type": "markdown",
   "metadata": {
    "id": "MMgatHS3JnE6"
   },
   "source": [
    "CNN specificities: kernel size, number of filters, padding/stride, type of pooling, number of blocks..."
   ]
  },
  {
   "cell_type": "markdown",
   "metadata": {
    "id": "9DCNVl9GQMWQ"
   },
   "source": [
    "### e) Training"
   ]
  },
  {
   "cell_type": "code",
   "execution_count": null,
   "metadata": {
    "id": "O5LEUFozZoq8"
   },
   "outputs": [],
   "source": [
    "from tensorflow.keras.optimizers import Adam"
   ]
  },
  {
   "cell_type": "markdown",
   "metadata": {
    "id": "5hmH92IdQMWQ"
   },
   "source": [
    "##### Define the optimizer, the loss function and the metrics"
   ]
  },
  {
   "cell_type": "code",
   "execution_count": null,
   "metadata": {
    "id": "hRHPzqcCQMWQ"
   },
   "outputs": [],
   "source": [
    "opt = Adam(learning_rate=0.001)"
   ]
  },
  {
   "cell_type": "code",
   "execution_count": null,
   "metadata": {
    "id": "dSGj6Mr7QMWQ"
   },
   "outputs": [],
   "source": [
    "# Compile the whole model before training\n",
    "\n",
    "model_CNN.compile(loss='categorical_crossentropy',\n",
    "              optimizer=opt,\n",
    "              metrics=['accuracy'])"
   ]
  },
  {
   "cell_type": "markdown",
   "metadata": {
    "id": "WUg6CqAFQMWQ"
   },
   "source": [
    "##### Train the model"
   ]
  },
  {
   "cell_type": "markdown",
   "metadata": {
    "id": "ptjWatwCQMWR"
   },
   "source": [
    "%%time is used to see the time of execution of a entire cell. By this way, it is possible to know how much time the training takes."
   ]
  },
  {
   "cell_type": "markdown",
   "metadata": {
    "id": "YcY9dJGLQMWR"
   },
   "source": [
    "The dataset is splitted into batches to prevent your machine from running out of memory."
   ]
  },
  {
   "cell_type": "markdown",
   "metadata": {
    "id": "RUN-8iEMQMWR"
   },
   "source": [
    "It is important to save the results in an object like \"histories\" in order to analyze the results after the training."
   ]
  },
  {
   "cell_type": "markdown",
   "metadata": {
    "id": "6Xl0h95DQMWR"
   },
   "source": [
    "If it's too long, the training set can be reduced as the number of epochs."
   ]
  },
  {
   "cell_type": "code",
   "execution_count": null,
   "metadata": {
    "id": "k1GtaKVJI3C9"
   },
   "outputs": [],
   "source": [
    "%%time\n",
    "batch_size = 64\n",
    "epochs = 25\n",
    "hist = model_CNN.fit(x_train, y_train,\n",
    "              batch_size=batch_size,\n",
    "              epochs=epochs,\n",
    "              validation_data=(x_val, y_val),\n",
    "              shuffle=True)"
   ]
  },
  {
   "cell_type": "markdown",
   "metadata": {
    "id": "m-xx6_tqQMWR"
   },
   "source": [
    "Tensorboard, a visualization toolkit, can be added to the callbacks parameter in fit() method."
   ]
  },
  {
   "cell_type": "markdown",
   "metadata": {
    "id": "HscBCrjPQMWS"
   },
   "source": [
    "##### Save the model"
   ]
  },
  {
   "cell_type": "markdown",
   "metadata": {
    "id": "3JtiF181QMWS"
   },
   "source": [
    "This is useful when you want to reuse the model."
   ]
  },
  {
   "cell_type": "code",
   "execution_count": null,
   "metadata": {
    "id": "xfSZzsTCcS2J"
   },
   "outputs": [],
   "source": [
    "from google.colab import drive\n",
    "drive.mount('/content/drive')"
   ]
  },
  {
   "cell_type": "code",
   "execution_count": null,
   "metadata": {
    "id": "GKJXxGZqQMWS"
   },
   "outputs": [],
   "source": [
    "# save_dir = os.path.join('yourpath', 'saved_models')\n",
    "# model_name = 'keras_cifar10_trained_model.cnn'"
   ]
  },
  {
   "cell_type": "code",
   "execution_count": null,
   "metadata": {
    "id": "YSiU6-Y3QMWS"
   },
   "outputs": [],
   "source": [
    "# if not os.path.isdir(save_dir):\n",
    "#     os.makedirs(save_dir)\n",
    "# model_path = os.path.join(save_dir, model_name)\n",
    "# model_CNN.save(model_path)\n",
    "# print('Saved trained model at %s ' % model_path)"
   ]
  },
  {
   "cell_type": "markdown",
   "metadata": {
    "id": "BSyEAnz_QMWS"
   },
   "source": [
    "Note that only the weights can be saved with the method save_weights(). It can be loaded after with"
   ]
  },
  {
   "cell_type": "code",
   "execution_count": null,
   "metadata": {
    "id": "M9o_Ehqk26g3"
   },
   "outputs": [],
   "source": [
    "# import keras\n",
    "# keras.models.load_model(os.path.join(save_dir,model_name))"
   ]
  },
  {
   "cell_type": "markdown",
   "metadata": {
    "id": "Leo3d_bO9-4-"
   },
   "source": [
    "Help: https://www.tensorflow.org/tutorials/keras/save_and_load#save_the_entire_model"
   ]
  },
  {
   "cell_type": "markdown",
   "metadata": {
    "id": "TnvqzyoAQMWS"
   },
   "source": [
    "We can save the results in a txt file with pickle or in a csv file with pandas to compare the different models."
   ]
  },
  {
   "cell_type": "code",
   "execution_count": null,
   "metadata": {
    "id": "ZJD4_T5mQMWS"
   },
   "outputs": [],
   "source": [
    "# import pickle\n",
    "\n",
    "# with open(os.path.join(save_dir,\"histories_CNN.txt\"), \"wb\") as fp:\n",
    "#     #Pickling\n",
    "#     pickle.dump(hist.history, fp)"
   ]
  },
  {
   "cell_type": "markdown",
   "metadata": {
    "id": "oyI8G1gPQMWS"
   },
   "source": [
    "##### Analyse the results"
   ]
  },
  {
   "cell_type": "code",
   "execution_count": null,
   "metadata": {
    "id": "nx38xcIJQMWS"
   },
   "outputs": [],
   "source": [
    "hist.history.keys()"
   ]
  },
  {
   "cell_type": "code",
   "execution_count": null,
   "metadata": {
    "id": "958UL9xFQMWS"
   },
   "outputs": [],
   "source": [
    "plt.plot(hist.history['accuracy'], label='training set',marker='o', linestyle='solid',linewidth=1, markersize=6)\n",
    "plt.plot(hist.history['val_accuracy'], label='validation set',marker='o', linestyle='solid',linewidth=1, markersize=6)\n",
    "plt.title(\"CNN-model accuracy\")\n",
    "plt.xlabel('#Epochs')\n",
    "plt.ylabel('Acuracy')\n",
    "plt.legend(bbox_to_anchor=( 1., 1.))"
   ]
  },
  {
   "cell_type": "code",
   "execution_count": null,
   "metadata": {
    "id": "AHx6W8HtQMWS",
    "scrolled": true
   },
   "outputs": [],
   "source": [
    "plt.plot(hist.history['loss'], label='training set',marker='o', linestyle='solid',linewidth=1, markersize=6)\n",
    "plt.plot(hist.history['val_loss'], label='validation set',marker='o', linestyle='solid',linewidth=1, markersize=6)\n",
    "plt.title(\"CNN-model loss\")\n",
    "plt.xlabel('#Epochs')\n",
    "plt.ylabel('Total Loss')\n",
    "plt.legend(bbox_to_anchor=( 1.35, 1.))"
   ]
  },
  {
   "cell_type": "markdown",
   "metadata": {
    "id": "W8PAOvFqHDrg"
   },
   "source": [
    "Compute the confusion matrix\n",
    "\n",
    "Documentation: https://scikit-learn.org/stable/modules/generated/sklearn.metrics.confusion_matrix.html"
   ]
  },
  {
   "cell_type": "code",
   "execution_count": null,
   "metadata": {
    "id": "i2KfhIveEyzS"
   },
   "outputs": [],
   "source": [
    "import itertools\n",
    "from sklearn.metrics import confusion_matrix, classification_report\n",
    "\n",
    "# Get predictions on validation data\n",
    "y_pred = model_CNN.predict(...) # TODO\n",
    "y_pred"
   ]
  },
  {
   "cell_type": "code",
   "execution_count": null,
   "metadata": {
    "id": "UKhaR7QER_4I"
   },
   "outputs": [],
   "source": [
    "def plot_confusion_matrix(cm, classes,\n",
    "                          normalize=False,\n",
    "                          title='Confusion matrix',\n",
    "                          cmap=plt.cm.Blues, size=15):\n",
    "    \"\"\"\n",
    "    This function prints and plots the confusion matrix.\n",
    "    Normalization can be applied by setting `normalize=True`.\n",
    "    from http://scikit-learn.org/stable/auto_examples/model_selection/plot_confusion_matrix.html\n",
    "    :param cm: (numpy matrix) confusion matrix\n",
    "    :param classes: [str]\n",
    "    :param normalize: (bool)\n",
    "    :param title: (str)\n",
    "    :param cmap: (matplotlib color map)\n",
    "    \"\"\"\n",
    "    if normalize:\n",
    "        cm = cm.astype('float') / cm.sum(axis=1)[:, np.newaxis]\n",
    "\n",
    "    plt.figure(figsize=(size,size+2))\n",
    "    im = plt.imshow(cm, interpolation='nearest', cmap=cmap)\n",
    "    plt.title(title, size=18, family='serif')\n",
    "    cb = plt.colorbar(im, fraction=0.046, pad=0.04)\n",
    "    cb.ax.tick_params(labelsize=14)\n",
    "    #Set the font type and size of the colorbar\n",
    "    for l in cb.ax.yaxis.get_ticklabels():\n",
    "        l.set_family(\"serif\")\n",
    "\n",
    "    tick_marks = np.arange(len(classes))\n",
    "    plt.xticks(tick_marks, classes, rotation=90, fontname='serif', size=14)\n",
    "    plt.yticks(tick_marks, classes, fontname='serif', size=14)\n",
    "\n",
    "    fmt = '.1f' if normalize else 'd'\n",
    "    thresh = cm.max() / 2.\n",
    "    for i, j in itertools.product(range(cm.shape[0]), range(cm.shape[1])):\n",
    "        plt.text(j, i, format(cm[i, j], fmt),\n",
    "                 horizontalalignment=\"center\",\n",
    "                 color=\"white\" if cm[i, j] > thresh else \"black\",\n",
    "                 family='serif',\n",
    "                 size=12)\n",
    "\n",
    "\n",
    "    plt.ylabel('True label', size=18, fontname='serif')\n",
    "    plt.xlabel('Predicted label', size=18, fontname='serif')\n",
    "    plt.tight_layout()\n",
    "    plt.show()"
   ]
  },
  {
   "cell_type": "code",
   "execution_count": null,
   "metadata": {
    "id": "yrQ83AXcHWzh"
   },
   "outputs": [],
   "source": [
    "# Get confusion matrix (check documentation)\n",
    "cm = confusion_matrix(...,...) # TODO"
   ]
  },
  {
   "cell_type": "code",
   "execution_count": null,
   "metadata": {
    "id": "3g82q4qUFrpq"
   },
   "outputs": [],
   "source": [
    "plot_confusion_matrix(cm, LABELS.values(),\n",
    "                          normalize=True,\n",
    "                          title='Confusion matrix',\n",
    "                          cmap=plt.cm.Blues, size=7)"
   ]
  },
  {
   "cell_type": "code",
   "execution_count": null,
   "metadata": {
    "id": "iknLR8EOQsTm"
   },
   "outputs": [],
   "source": [
    "# Report\n",
    "print(classification_report(...,..., target_names=LABELS.values())) # TODO"
   ]
  },
  {
   "cell_type": "markdown",
   "metadata": {
    "id": "UDBJAsUmQMWS"
   },
   "source": [
    "##### Plot the results"
   ]
  },
  {
   "cell_type": "code",
   "execution_count": null,
   "metadata": {
    "id": "ndceXb5TQMWS"
   },
   "outputs": [],
   "source": [
    "# Sample test data\n",
    "ix = np.random.randint(0, 10000, size=16)\n",
    "ex_im = x_val[ix]\n",
    "ex_lb = y_val[ix]\n",
    "\n",
    "# Predict\n",
    "out = model_CNN.predict(ex_im) #model_CNN\n",
    "classes = np.argmax(out, axis=1)  # softmax output -> class\n",
    "\n",
    "# Plot\n",
    "fig, axes = plt.subplots(4, 4, figsize=(10, 10), sharey=True, sharex=True);\n",
    "fig.suptitle(r'$\\rightarrow$ CNN predicted (actual) $\\leftarrow$')\n",
    "\n",
    "k = 0\n",
    "for i in range(4):\n",
    "    for j in range(4):\n",
    "        # Switch Axes\n",
    "        ax = axes[i, j]\n",
    "\n",
    "        # Show image\n",
    "        ax.imshow(ex_im[k]);\n",
    "\n",
    "        # Determine labels\n",
    "        actual_lab = LABELS[np.argmax(ex_lb[k])]\n",
    "        pred_lab = LABELS[classes[k]]\n",
    "\n",
    "        # Format title\n",
    "        title = \"{} ({})\".format(pred_lab, actual_lab)\n",
    "        title_color = 'black'\n",
    "\n",
    "        # Mark image if wrong prediction\n",
    "        if actual_lab != pred_lab:\n",
    "            ax.plot(np.array([0, 32]), np.array([0, 32]), 'r-')\n",
    "            ax.plot(np.array([0, 32]), np.array([32, 0]), 'r-')\n",
    "            title_color = 'red'\n",
    "\n",
    "        # Set title\n",
    "        ax.set_title(title, color=title_color);\n",
    "\n",
    "        # Set limits\n",
    "        ax.set_xlim(32, 0)\n",
    "        ax.set_ylim(32, 0)\n",
    "\n",
    "        k += 1\n",
    "\n",
    "# save_dir=os.path.join('yourpath','figs')\n",
    "# if not(os.path.isdir(save_dir)):\n",
    "#     os.mkdir(save_dir)\n",
    "# fig.savefig(os.path.join(save_dir,'exemplary_images.png'))"
   ]
  },
  {
   "cell_type": "markdown",
   "metadata": {
    "id": "RyJ6lOwJYMzY"
   },
   "source": [
    "## 2. Build your own CNN and MLP"
   ]
  },
  {
   "cell_type": "markdown",
   "metadata": {
    "id": "DCbAEX0mQMWP"
   },
   "source": [
    "### Objectives:\n",
    "- Implement a CNN and a MLP to compare performances on CIFAR-10\n",
    "- Adjust the CNN on the validation set to get the best performances. Play with the hyperparameters. Analyze and comment your results.\n",
    "- Learn the final model on the full training data and test on the test data\n",
    "- Have a look on: https://www.tensorflow.org/tutorials/images/cnn\n",
    "\n",
    "----> Use the functions we defined above in the notebook"
   ]
  },
  {
   "cell_type": "markdown",
   "metadata": {
    "id": "TVmIcif_SePC"
   },
   "source": [
    "### First, focus on CNNs"
   ]
  },
  {
   "cell_type": "markdown",
   "metadata": {
    "id": "_YQyPwmVRrJM"
   },
   "source": [
    "Here, you can adjust your model by adding more convolutionnal layers, playing with the number of filters or adding some regularizations. One good thing is to use EarlyStopping."
   ]
  },
  {
   "cell_type": "code",
   "execution_count": null,
   "metadata": {
    "id": "9u9gPCCRY2VX"
   },
   "outputs": [],
   "source": [
    "# Implement a new architecture of a MLP and/or CNN\n",
    "# TODO\n",
    "\n",
    "from tensorflow.keras.layers import ...."
   ]
  },
  {
   "cell_type": "code",
   "execution_count": null,
   "metadata": {
    "id": "mHl_0DCZR3KY"
   },
   "outputs": [],
   "source": [
    "# Train new model\n",
    "# TODO"
   ]
  },
  {
   "cell_type": "markdown",
   "metadata": {
    "id": "TCGVp-4JN-Pd"
   },
   "source": [
    "### Hyperparameters tuning\n",
    "\n",
    "Think about the impact of the following hyperparameters, what are they useful for ?\n",
    "- batch size\n",
    "- learning rate\n",
    "- number of layers\n",
    "- hidden units in layers"
   ]
  },
  {
   "cell_type": "code",
   "execution_count": null,
   "metadata": {
    "id": "z10BWEdgN7Bn"
   },
   "outputs": [],
   "source": [
    "# Hyperparameters tuning:\n",
    "# TODO"
   ]
  },
  {
   "cell_type": "code",
   "execution_count": null,
   "metadata": {
    "id": "SiLHJG1aOUfD"
   },
   "outputs": [],
   "source": []
  },
  {
   "cell_type": "markdown",
   "metadata": {
    "id": "CHCOXnLASKww"
   },
   "source": [
    "Have you thought about data augmentation ?\n",
    "Help: https://www.tensorflow.org/tutorials/images/data_augmentation#data_augmentation_3"
   ]
  },
  {
   "cell_type": "code",
   "execution_count": null,
   "metadata": {
    "id": "xDpYhyBYSOqR"
   },
   "outputs": [],
   "source": [
    "# Data augmentation\n",
    "# TODO"
   ]
  },
  {
   "cell_type": "code",
   "execution_count": null,
   "metadata": {
    "id": "GOGLfWsjSVYM"
   },
   "outputs": [],
   "source": [
    "# Analyse results\n",
    "# TODO"
   ]
  },
  {
   "cell_type": "code",
   "execution_count": null,
   "metadata": {
    "id": "2m8mWxirSXbz"
   },
   "outputs": [],
   "source": []
  },
  {
   "cell_type": "markdown",
   "metadata": {
    "id": "4Tw3hPGSSjVD"
   },
   "source": [
    "### Try the same experiments with a new MLP model"
   ]
  },
  {
   "cell_type": "code",
   "execution_count": null,
   "metadata": {
    "id": "dwXyhB6uSr1Q"
   },
   "outputs": [],
   "source": []
  },
  {
   "cell_type": "markdown",
   "metadata": {},
   "source": [
    "## Compare MLP and CNN"
   ]
  },
  {
   "cell_type": "code",
   "execution_count": null,
   "metadata": {},
   "outputs": [],
   "source": [
    "# TODO"
   ]
  }
 ],
 "metadata": {
  "accelerator": "GPU",
  "colab": {
   "provenance": [
    {
     "file_id": "13PSbHn2E1wAlVMD2duRgMAimlDL9y1Qh",
     "timestamp": 1608191971960
    },
    {
     "file_id": "1w3e3JzzUXKFzQeQrq0AFznPLBs3J7YhY",
     "timestamp": 1607028152797
    }
   ],
   "toc_visible": true
  },
  "kernelspec": {
   "display_name": "Python 3 (ipykernel)",
   "language": "python",
   "name": "python3"
  },
  "language_info": {
   "codemirror_mode": {
    "name": "ipython",
    "version": 3
   },
   "file_extension": ".py",
   "mimetype": "text/x-python",
   "name": "python",
   "nbconvert_exporter": "python",
   "pygments_lexer": "ipython3",
   "version": "3.7.16"
  }
 },
 "nbformat": 4,
 "nbformat_minor": 1
}
